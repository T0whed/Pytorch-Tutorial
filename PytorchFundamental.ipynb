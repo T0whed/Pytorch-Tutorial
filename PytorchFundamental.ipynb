{
  "cells": [
    {
      "cell_type": "markdown",
      "metadata": {
        "id": "view-in-github",
        "colab_type": "text"
      },
      "source": [
        "<a href=\"https://colab.research.google.com/github/T0whed/Pytorch-Tutorial/blob/main/PytorchFundamental.ipynb\" target=\"_parent\"><img src=\"https://colab.research.google.com/assets/colab-badge.svg\" alt=\"Open In Colab\"/></a>"
      ]
    },
    {
      "cell_type": "markdown",
      "source": [
        "For any Confusion go to -> https://www.learnpytorch.io/\n",
        "or pytorch.___\n"
      ],
      "metadata": {
        "id": "KPMjuUxaYvZZ"
      }
    },
    {
      "cell_type": "code",
      "execution_count": 2,
      "metadata": {
        "colab": {
          "base_uri": "https://localhost:8080/"
        },
        "id": "uA672Rp8wnaf",
        "outputId": "837c90be-d890-4cc9-d1cc-4ac658a20eda"
      },
      "outputs": [
        {
          "output_type": "execute_result",
          "data": {
            "text/plain": [
              "tensor(7)"
            ]
          },
          "metadata": {},
          "execution_count": 2
        }
      ],
      "source": [
        "scalar = torch.tensor(7)\n",
        "scalar"
      ]
    },
    {
      "cell_type": "code",
      "execution_count": 3,
      "metadata": {
        "colab": {
          "base_uri": "https://localhost:8080/"
        },
        "id": "JwyK46172KOU",
        "outputId": "545bbd1d-0d1d-4747-db64-fab1467a5775"
      },
      "outputs": [
        {
          "output_type": "execute_result",
          "data": {
            "text/plain": [
              "0"
            ]
          },
          "metadata": {},
          "execution_count": 3
        }
      ],
      "source": [
        "scalar.ndim"
      ]
    },
    {
      "cell_type": "code",
      "execution_count": 4,
      "metadata": {
        "colab": {
          "base_uri": "https://localhost:8080/"
        },
        "id": "5gnfe5Bp2SOb",
        "outputId": "b7d1e09c-1c9d-47a5-e954-f8c5f3afac3f"
      },
      "outputs": [
        {
          "output_type": "execute_result",
          "data": {
            "text/plain": [
              "tensor([4, 4])"
            ]
          },
          "metadata": {},
          "execution_count": 4
        }
      ],
      "source": [
        "vector = torch.tensor([4, 4])\n",
        "vector"
      ]
    },
    {
      "cell_type": "code",
      "execution_count": 5,
      "metadata": {
        "colab": {
          "base_uri": "https://localhost:8080/"
        },
        "id": "QHAtaNoH2Wyz",
        "outputId": "b5d6feab-98cf-4886-af60-196460760f9d"
      },
      "outputs": [
        {
          "output_type": "execute_result",
          "data": {
            "text/plain": [
              "torch.Size([2])"
            ]
          },
          "metadata": {},
          "execution_count": 5
        }
      ],
      "source": [
        "vector.shape"
      ]
    },
    {
      "cell_type": "code",
      "execution_count": 6,
      "metadata": {
        "colab": {
          "base_uri": "https://localhost:8080/"
        },
        "id": "lX8LGUtP2Zzq",
        "outputId": "3f7522f1-07df-4158-b25a-da57a27c8049"
      },
      "outputs": [
        {
          "output_type": "execute_result",
          "data": {
            "text/plain": [
              "tensor([[ 7,  8],\n",
              "        [ 9, 10]])"
            ]
          },
          "metadata": {},
          "execution_count": 6
        }
      ],
      "source": [
        "MATRIX = torch.tensor([[7, 8], [9, 10]])\n",
        "\n",
        "MATRIX"
      ]
    },
    {
      "cell_type": "code",
      "execution_count": 7,
      "metadata": {
        "colab": {
          "base_uri": "https://localhost:8080/"
        },
        "id": "cDxvmh492nON",
        "outputId": "4bee0b85-4074-4d2b-d0c9-9144a97a5ac6"
      },
      "outputs": [
        {
          "output_type": "execute_result",
          "data": {
            "text/plain": [
              "torch.Size([2, 2])"
            ]
          },
          "metadata": {},
          "execution_count": 7
        }
      ],
      "source": [
        "MATRIX.shape"
      ]
    },
    {
      "cell_type": "code",
      "execution_count": 8,
      "metadata": {
        "colab": {
          "base_uri": "https://localhost:8080/"
        },
        "id": "nhCJk9VW2yNY",
        "outputId": "336c8c96-462d-492e-a74a-52633f533003"
      },
      "outputs": [
        {
          "output_type": "execute_result",
          "data": {
            "text/plain": [
              "torch.Size([1, 3, 3])"
            ]
          },
          "metadata": {},
          "execution_count": 8
        }
      ],
      "source": [
        "TENSOR = torch.tensor([[[7, 8,3], [9, 10,2], [2,3, 4]]])\n",
        "\n",
        "TENSOR.shape\n"
      ]
    },
    {
      "cell_type": "code",
      "execution_count": 9,
      "metadata": {
        "colab": {
          "base_uri": "https://localhost:8080/"
        },
        "id": "Du1Jqgj23Uic",
        "outputId": "a06ca5cb-ad4a-4f0a-f3f7-b7f4fd101bd2"
      },
      "outputs": [
        {
          "output_type": "execute_result",
          "data": {
            "text/plain": [
              "3"
            ]
          },
          "metadata": {},
          "execution_count": 9
        }
      ],
      "source": [
        "TENSOR.ndim"
      ]
    },
    {
      "cell_type": "code",
      "execution_count": 10,
      "metadata": {
        "colab": {
          "base_uri": "https://localhost:8080/"
        },
        "id": "G9B-BwoN5CrL",
        "outputId": "9a2ffc52-85f1-49ff-af01-881190fb9acb"
      },
      "outputs": [
        {
          "output_type": "execute_result",
          "data": {
            "text/plain": [
              "(tensor([[0.2598, 0.9520, 0.3158, 0.9214],\n",
              "         [0.5227, 0.4829, 0.5737, 0.0771],\n",
              "         [0.0565, 0.2236, 0.4298, 0.1488]]),\n",
              " torch.float32)"
            ]
          },
          "metadata": {},
          "execution_count": 10
        }
      ],
      "source": [
        "# Create a random tensor of size (3, 4)\n",
        "random_tensor = torch.rand(size=(3, 4))\n",
        "random_tensor, random_tensor.dtype"
      ]
    },
    {
      "cell_type": "code",
      "execution_count": 11,
      "metadata": {
        "colab": {
          "base_uri": "https://localhost:8080/"
        },
        "id": "7fXzhOYn5Eo8",
        "outputId": "d68573c2-60e8-47fc-cd77-0e0e0eface8e"
      },
      "outputs": [
        {
          "output_type": "execute_result",
          "data": {
            "text/plain": [
              "torch.Size([224, 224, 3])"
            ]
          },
          "metadata": {},
          "execution_count": 11
        }
      ],
      "source": [
        "random_image_size_tensor = torch.rand(size=(224, 224, 3))\n",
        "random_image_size_tensor.shape"
      ]
    },
    {
      "cell_type": "code",
      "execution_count": 12,
      "metadata": {
        "colab": {
          "base_uri": "https://localhost:8080/"
        },
        "collapsed": true,
        "id": "np4LDsRcsqzp",
        "outputId": "3fb44606-3191-4bbf-9f11-ae1ab96e506a"
      },
      "outputs": [
        {
          "output_type": "execute_result",
          "data": {
            "text/plain": [
              "tensor([[[0.5736, 0.1294, 0.9155],\n",
              "         [0.1502, 0.7646, 0.5599],\n",
              "         [0.9139, 0.9029, 0.2480],\n",
              "         ...,\n",
              "         [0.6896, 0.0631, 0.4124],\n",
              "         [0.0151, 0.2454, 0.5381],\n",
              "         [0.5360, 0.4963, 0.5141]],\n",
              "\n",
              "        [[0.9577, 0.5669, 0.7608],\n",
              "         [0.3958, 0.7232, 0.4985],\n",
              "         [0.8737, 0.5242, 0.5398],\n",
              "         ...,\n",
              "         [0.1913, 0.9804, 0.3394],\n",
              "         [0.1317, 0.1725, 0.0260],\n",
              "         [0.5833, 0.0938, 0.3216]],\n",
              "\n",
              "        [[0.5505, 0.3135, 0.2428],\n",
              "         [0.5492, 0.3202, 0.0278],\n",
              "         [0.9473, 0.5564, 0.5641],\n",
              "         ...,\n",
              "         [0.7267, 0.0146, 0.6416],\n",
              "         [0.2010, 0.0610, 0.1416],\n",
              "         [0.2782, 0.9579, 0.6019]],\n",
              "\n",
              "        ...,\n",
              "\n",
              "        [[0.5948, 0.9840, 0.6805],\n",
              "         [0.3327, 0.3437, 0.2879],\n",
              "         [0.4601, 0.0797, 0.8951],\n",
              "         ...,\n",
              "         [0.2436, 0.1190, 0.5292],\n",
              "         [0.8833, 0.6010, 0.3099],\n",
              "         [0.5874, 0.1539, 0.3347]],\n",
              "\n",
              "        [[0.3822, 0.0816, 0.3050],\n",
              "         [0.6448, 0.1222, 0.2574],\n",
              "         [0.3134, 0.9123, 0.5086],\n",
              "         ...,\n",
              "         [0.4482, 0.9312, 0.1523],\n",
              "         [0.1105, 0.9437, 0.0517],\n",
              "         [0.2067, 0.8821, 0.8780]],\n",
              "\n",
              "        [[0.0134, 0.6218, 0.0581],\n",
              "         [0.6123, 0.3336, 0.6382],\n",
              "         [0.5019, 0.7772, 0.2443],\n",
              "         ...,\n",
              "         [0.8508, 0.9867, 0.8706],\n",
              "         [0.3918, 0.9039, 0.4514],\n",
              "         [0.5778, 0.0252, 0.0786]]])"
            ]
          },
          "metadata": {},
          "execution_count": 12
        }
      ],
      "source": [
        "random_image_size_tensor"
      ]
    },
    {
      "cell_type": "code",
      "execution_count": 13,
      "metadata": {
        "colab": {
          "base_uri": "https://localhost:8080/"
        },
        "id": "g0Nodue15Ovq",
        "outputId": "8a73ccd5-f76f-4346-e994-60bcc0519b73"
      },
      "outputs": [
        {
          "output_type": "execute_result",
          "data": {
            "text/plain": [
              "tensor([[0., 0., 0., 0.],\n",
              "        [0., 0., 0., 0.],\n",
              "        [0., 0., 0., 0.]])"
            ]
          },
          "metadata": {},
          "execution_count": 13
        }
      ],
      "source": [
        "#Create a tensor of all zeros\n",
        "zeros = torch.zeros(size=(3,4))\n",
        "zeros"
      ]
    },
    {
      "cell_type": "code",
      "execution_count": 14,
      "metadata": {
        "colab": {
          "base_uri": "https://localhost:8080/"
        },
        "id": "l8GacVMOtEdJ",
        "outputId": "e1fd510e-e98f-4195-df96-4a2c111f98df"
      },
      "outputs": [
        {
          "output_type": "execute_result",
          "data": {
            "text/plain": [
              "tensor([[0., 0., 0., 0.],\n",
              "        [0., 0., 0., 0.],\n",
              "        [0., 0., 0., 0.]])"
            ]
          },
          "metadata": {},
          "execution_count": 14
        }
      ],
      "source": [
        "zeros*random_tensor"
      ]
    },
    {
      "cell_type": "code",
      "execution_count": 15,
      "metadata": {
        "colab": {
          "base_uri": "https://localhost:8080/"
        },
        "id": "OyRHn91xtKnG",
        "outputId": "17da53ae-c0a2-4d33-f171-4db80366d78e"
      },
      "outputs": [
        {
          "output_type": "execute_result",
          "data": {
            "text/plain": [
              "tensor([[1., 1., 1., 1.],\n",
              "        [1., 1., 1., 1.],\n",
              "        [1., 1., 1., 1.]])"
            ]
          },
          "metadata": {},
          "execution_count": 15
        }
      ],
      "source": [
        "# Create tensor of all ones\n",
        "ones = torch.ones(size=(3,4))\n",
        "ones"
      ]
    },
    {
      "cell_type": "code",
      "execution_count": 16,
      "metadata": {
        "colab": {
          "base_uri": "https://localhost:8080/"
        },
        "id": "bX5bkErftVqe",
        "outputId": "0c57d70a-c207-4956-8499-1e50a83c4908"
      },
      "outputs": [
        {
          "output_type": "execute_result",
          "data": {
            "text/plain": [
              "torch.float32"
            ]
          },
          "metadata": {},
          "execution_count": 16
        }
      ],
      "source": [
        "ones.dtype"
      ]
    },
    {
      "cell_type": "code",
      "execution_count": 17,
      "metadata": {
        "colab": {
          "base_uri": "https://localhost:8080/"
        },
        "id": "NCKfM_iXtZoY",
        "outputId": "3f9b6f30-8a42-411b-b7ac-b24f6a7af5e5"
      },
      "outputs": [
        {
          "output_type": "execute_result",
          "data": {
            "text/plain": [
              "torch.float32"
            ]
          },
          "metadata": {},
          "execution_count": 17
        }
      ],
      "source": [
        "random_tensor.dtype"
      ]
    },
    {
      "cell_type": "code",
      "execution_count": 18,
      "metadata": {
        "colab": {
          "base_uri": "https://localhost:8080/"
        },
        "id": "zq6QAIgRtklY",
        "outputId": "f9856a9a-67e8-4fa0-8277-f654eba2a2fc"
      },
      "outputs": [
        {
          "output_type": "execute_result",
          "data": {
            "text/plain": [
              "tensor([0, 1, 2, 3, 4, 5, 6, 7, 8, 9])"
            ]
          },
          "metadata": {},
          "execution_count": 18
        }
      ],
      "source": [
        "### Creating a rang of tensors-like\n",
        "\n",
        "torch.arange(start=0,end = 10,step =1)"
      ]
    },
    {
      "cell_type": "code",
      "execution_count": 19,
      "metadata": {
        "colab": {
          "base_uri": "https://localhost:8080/"
        },
        "id": "ynaeHwZQtuUH",
        "outputId": "04ebeb3d-8194-4639-ca41-fc6155f945a8"
      },
      "outputs": [
        {
          "output_type": "execute_result",
          "data": {
            "text/plain": [
              "tensor([ 0,  2,  4,  6,  8, 10])"
            ]
          },
          "metadata": {},
          "execution_count": 19
        }
      ],
      "source": [
        "\n",
        "zero_to_twelve = torch.arange(0,12, 2)\n",
        "zero_to_twelve"
      ]
    },
    {
      "cell_type": "code",
      "execution_count": 20,
      "metadata": {
        "colab": {
          "base_uri": "https://localhost:8080/"
        },
        "id": "DrMiyJceuUC3",
        "outputId": "f93bbcda-72b5-4ce7-ef47-5f58c86e7e28"
      },
      "outputs": [
        {
          "output_type": "execute_result",
          "data": {
            "text/plain": [
              "tensor([0, 0, 0, 0, 0, 0])"
            ]
          },
          "metadata": {},
          "execution_count": 20
        }
      ],
      "source": [
        "some_zeroes = torch.zeros_like(zero_to_twelve)\n",
        "some_zeroes"
      ]
    },
    {
      "cell_type": "code",
      "execution_count": 21,
      "metadata": {
        "colab": {
          "base_uri": "https://localhost:8080/"
        },
        "id": "C7DHwngzuoYW",
        "outputId": "60bfc27b-a568-4708-f574-6fd9c24b0ec8"
      },
      "outputs": [
        {
          "output_type": "execute_result",
          "data": {
            "text/plain": [
              "(tensor([3., 6., 9.]), torch.float32)"
            ]
          },
          "metadata": {},
          "execution_count": 21
        }
      ],
      "source": [
        "float_32_tensor = torch.tensor([3.0, 6.0, 9.0],\n",
        "                               dtype = None,\n",
        "                               device = None,\n",
        "                               requires_grad=False)\n",
        "float_32_tensor, float_32_tensor.dtype"
      ]
    },
    {
      "cell_type": "code",
      "execution_count": 22,
      "metadata": {
        "colab": {
          "base_uri": "https://localhost:8080/"
        },
        "id": "6KOYp-XFwEtB",
        "outputId": "681096a0-89d5-4d40-da1d-968f6a3dfb3d"
      },
      "outputs": [
        {
          "output_type": "execute_result",
          "data": {
            "text/plain": [
              "tensor([3., 6., 9.], dtype=torch.float16)"
            ]
          },
          "metadata": {},
          "execution_count": 22
        }
      ],
      "source": [
        "\n",
        "float_16_tensor = float_32_tensor.type(torch.half)\n",
        "float_16_tensor"
      ]
    },
    {
      "cell_type": "code",
      "execution_count": 23,
      "metadata": {
        "colab": {
          "base_uri": "https://localhost:8080/"
        },
        "id": "9ryEFCz_xv4q",
        "outputId": "ae93d784-04ec-4897-b102-16297bd1b8db"
      },
      "outputs": [
        {
          "output_type": "execute_result",
          "data": {
            "text/plain": [
              "tensor([ 9., 36., 81.])"
            ]
          },
          "metadata": {},
          "execution_count": 23
        }
      ],
      "source": [
        "float_16_tensor * float_32_tensor"
      ]
    },
    {
      "cell_type": "code",
      "execution_count": 24,
      "metadata": {
        "colab": {
          "base_uri": "https://localhost:8080/"
        },
        "id": "KCO9U6llx005",
        "outputId": "7a185e48-9cca-44bc-eb4b-01cae8e34165"
      },
      "outputs": [
        {
          "output_type": "execute_result",
          "data": {
            "text/plain": [
              "device(type='cpu')"
            ]
          },
          "metadata": {},
          "execution_count": 24
        }
      ],
      "source": [
        "float_16_tensor.device"
      ]
    },
    {
      "cell_type": "code",
      "execution_count": 25,
      "metadata": {
        "colab": {
          "base_uri": "https://localhost:8080/"
        },
        "id": "4zqRvqKCysDh",
        "outputId": "d33e89e1-4b3c-4384-efac-e9787df17f7a"
      },
      "outputs": [
        {
          "output_type": "execute_result",
          "data": {
            "text/plain": [
              "tensor([2, 3, 4])"
            ]
          },
          "metadata": {},
          "execution_count": 25
        }
      ],
      "source": [
        "tensor = torch.tensor([2, 3, 4])\n",
        "tensor"
      ]
    },
    {
      "cell_type": "code",
      "execution_count": 26,
      "metadata": {
        "colab": {
          "base_uri": "https://localhost:8080/"
        },
        "id": "xkscDtZ2zyzK",
        "outputId": "a5fc9eb4-5421-46c2-b484-6d6628b3309f"
      },
      "outputs": [
        {
          "output_type": "execute_result",
          "data": {
            "text/plain": [
              "tensor([20, 30, 40])"
            ]
          },
          "metadata": {},
          "execution_count": 26
        }
      ],
      "source": [
        "tensor*10\n"
      ]
    },
    {
      "cell_type": "code",
      "execution_count": 27,
      "metadata": {
        "colab": {
          "base_uri": "https://localhost:8080/"
        },
        "id": "60Q8krLBz7Q0",
        "outputId": "380a768a-ec4c-4783-e39a-f41af8e0eaff"
      },
      "outputs": [
        {
          "output_type": "execute_result",
          "data": {
            "text/plain": [
              "tensor([2, 3, 4])"
            ]
          },
          "metadata": {},
          "execution_count": 27
        }
      ],
      "source": [
        "tensor"
      ]
    },
    {
      "cell_type": "code",
      "execution_count": 28,
      "metadata": {
        "colab": {
          "base_uri": "https://localhost:8080/"
        },
        "id": "ty7aKHkm0JIU",
        "outputId": "5820879a-f140-4a4a-9f7b-627c7902dab9"
      },
      "outputs": [
        {
          "output_type": "execute_result",
          "data": {
            "text/plain": [
              "tensor([20, 30, 40])"
            ]
          },
          "metadata": {},
          "execution_count": 28
        }
      ],
      "source": [
        "torch.multiply(tensor,10)"
      ]
    },
    {
      "cell_type": "code",
      "execution_count": 29,
      "metadata": {
        "colab": {
          "base_uri": "https://localhost:8080/"
        },
        "id": "doINAMKI0Oqh",
        "outputId": "633420dc-63ee-42e7-9d56-aadab12d3b1a"
      },
      "outputs": [
        {
          "output_type": "execute_result",
          "data": {
            "text/plain": [
              "tensor([20, 30, 40])"
            ]
          },
          "metadata": {},
          "execution_count": 29
        }
      ],
      "source": [
        "tensor=torch.multiply(tensor,10)\n",
        "tensor"
      ]
    },
    {
      "cell_type": "code",
      "execution_count": 30,
      "metadata": {
        "colab": {
          "base_uri": "https://localhost:8080/"
        },
        "id": "kWohlVhl0R13",
        "outputId": "5248faf8-e5e1-436c-a232-bad4776ee441"
      },
      "outputs": [
        {
          "output_type": "execute_result",
          "data": {
            "text/plain": [
              "tensor([1, 4, 9])"
            ]
          },
          "metadata": {},
          "execution_count": 30
        }
      ],
      "source": [
        "tensor = torch.tensor([1, 2, 3])\n",
        "tensor*tensor"
      ]
    },
    {
      "cell_type": "code",
      "execution_count": 31,
      "metadata": {
        "colab": {
          "base_uri": "https://localhost:8080/"
        },
        "id": "ezwOblkW3hDZ",
        "outputId": "662b4134-84d1-4e14-f35a-ed68979cef45"
      },
      "outputs": [
        {
          "output_type": "stream",
          "name": "stdout",
          "text": [
            "CPU times: user 365 µs, sys: 48 µs, total: 413 µs\n",
            "Wall time: 5.44 ms\n"
          ]
        },
        {
          "output_type": "execute_result",
          "data": {
            "text/plain": [
              "tensor(14)"
            ]
          },
          "metadata": {},
          "execution_count": 31
        }
      ],
      "source": [
        "%%time\n",
        "torch.matmul(tensor,tensor)"
      ]
    },
    {
      "cell_type": "code",
      "execution_count": 32,
      "metadata": {
        "colab": {
          "base_uri": "https://localhost:8080/"
        },
        "id": "KvqpEnw23kiS",
        "outputId": "331ee6cd-544a-4080-9bb7-7f01d98dcdc1"
      },
      "outputs": [
        {
          "output_type": "stream",
          "name": "stdout",
          "text": [
            "tensor(14)\n",
            "CPU times: user 884 µs, sys: 0 ns, total: 884 µs\n",
            "Wall time: 3.41 ms\n"
          ]
        }
      ],
      "source": [
        "%%time\n",
        "\n",
        "value = 0\n",
        "for i in range(len(tensor)):\n",
        "  value += tensor[i] * tensor[i]\n",
        "\n",
        "print(value)"
      ]
    },
    {
      "cell_type": "code",
      "execution_count": 33,
      "metadata": {
        "colab": {
          "base_uri": "https://localhost:8080/"
        },
        "id": "imsneWf6327I",
        "outputId": "bdd365af-19ca-4724-d93d-7b84ecb379f3"
      },
      "outputs": [
        {
          "output_type": "execute_result",
          "data": {
            "text/plain": [
              "tensor(14)"
            ]
          },
          "metadata": {},
          "execution_count": 33
        }
      ],
      "source": [
        "tensor @ tensor"
      ]
    },
    {
      "cell_type": "code",
      "execution_count": 34,
      "metadata": {
        "colab": {
          "base_uri": "https://localhost:8080/"
        },
        "id": "UrDq4YkT4VBC",
        "outputId": "5ef8955f-d4a3-45d9-e283-413419279212"
      },
      "outputs": [
        {
          "output_type": "stream",
          "name": "stdout",
          "text": [
            "tensor([[ 7,  8,  9],\n",
            "        [10, 11, 12]])\n"
          ]
        },
        {
          "output_type": "execute_result",
          "data": {
            "text/plain": [
              "tensor([[ 27,  30,  33],\n",
              "        [ 61,  68,  75],\n",
              "        [ 95, 106, 117]])"
            ]
          },
          "metadata": {},
          "execution_count": 34
        }
      ],
      "source": [
        "tensor_A = torch.tensor([[1, 2],\n",
        "                        [3,4],\n",
        "                        [5,6]])\n",
        "\n",
        "tensor_B = torch.tensor([[7,10],\n",
        "                        [8, 11],\n",
        "                        [9, 12]])\n",
        "\n",
        "print(tensor_B.T)\n",
        "\n",
        "tensor_A @ tensor_B.T"
      ]
    },
    {
      "cell_type": "code",
      "execution_count": 35,
      "metadata": {
        "colab": {
          "base_uri": "https://localhost:8080/"
        },
        "id": "NRHJ4wff5CBM",
        "outputId": "f3ca1ca4-95e1-4b88-e634-d86855dda7b1"
      },
      "outputs": [
        {
          "output_type": "execute_result",
          "data": {
            "text/plain": [
              "tensor(0)"
            ]
          },
          "metadata": {},
          "execution_count": 35
        }
      ],
      "source": [
        "x = torch.arange(0, 100, 10)\n",
        "x.min()"
      ]
    },
    {
      "cell_type": "code",
      "execution_count": 36,
      "metadata": {
        "colab": {
          "base_uri": "https://localhost:8080/"
        },
        "collapsed": true,
        "id": "6OQnsJyI86p1",
        "outputId": "c6bb1200-6e85-442e-c56e-e5692606cffb"
      },
      "outputs": [
        {
          "output_type": "execute_result",
          "data": {
            "text/plain": [
              "(tensor(450), tensor(450))"
            ]
          },
          "metadata": {},
          "execution_count": 36
        }
      ],
      "source": [
        "x. max()\n",
        "x.sum(), torch.sum(x)"
      ]
    },
    {
      "cell_type": "code",
      "execution_count": 37,
      "metadata": {
        "colab": {
          "base_uri": "https://localhost:8080/"
        },
        "id": "EWLXlBtU9RjS",
        "outputId": "29e3815b-5eba-40a2-9d00-bc065a7adf15"
      },
      "outputs": [
        {
          "output_type": "execute_result",
          "data": {
            "text/plain": [
              "tensor(45.)"
            ]
          },
          "metadata": {},
          "execution_count": 37
        }
      ],
      "source": [
        "torch.mean(x.type(torch.float32))"
      ]
    },
    {
      "cell_type": "code",
      "execution_count": 38,
      "metadata": {
        "colab": {
          "base_uri": "https://localhost:8080/"
        },
        "id": "HDoQyNmk-ahU",
        "outputId": "cf258736-131f-4871-c044-fcb78dfa5f69"
      },
      "outputs": [
        {
          "output_type": "execute_result",
          "data": {
            "text/plain": [
              "tensor(9)"
            ]
          },
          "metadata": {},
          "execution_count": 38
        }
      ],
      "source": [
        "x.argmax()"
      ]
    },
    {
      "cell_type": "code",
      "execution_count": 39,
      "metadata": {
        "id": "DPHrfQLR_4vQ"
      },
      "outputs": [],
      "source": [
        "x[5] = 500\n",
        "x[7] = 500\n",
        "x[3] = 500"
      ]
    },
    {
      "cell_type": "code",
      "execution_count": 40,
      "metadata": {
        "colab": {
          "base_uri": "https://localhost:8080/"
        },
        "id": "hBaNeZoL__Q0",
        "outputId": "34904dba-3080-40f4-9036-deba4f3bf379"
      },
      "outputs": [
        {
          "output_type": "execute_result",
          "data": {
            "text/plain": [
              "tensor(3)"
            ]
          },
          "metadata": {},
          "execution_count": 40
        }
      ],
      "source": [
        "x.argmax()"
      ]
    },
    {
      "cell_type": "code",
      "execution_count": 41,
      "metadata": {
        "colab": {
          "base_uri": "https://localhost:8080/"
        },
        "id": "I8L0LbF7AAjk",
        "outputId": "3643780e-fdbd-4b2c-fc0e-e3b6c4b2d1fd"
      },
      "outputs": [
        {
          "output_type": "execute_result",
          "data": {
            "text/plain": [
              "(tensor([1., 2., 3., 4., 5., 6., 7., 8., 9.]), torch.Size([9]))"
            ]
          },
          "metadata": {},
          "execution_count": 41
        }
      ],
      "source": [
        "# Let's create a tensor\n",
        "x = torch.arange(1., 10.)\n",
        "x, x.shape"
      ]
    },
    {
      "cell_type": "code",
      "execution_count": 42,
      "metadata": {
        "colab": {
          "base_uri": "https://localhost:8080/"
        },
        "id": "NJrzmE6I8xRa",
        "outputId": "e2de91da-fba6-46a7-e7a5-cc81fbd0d921"
      },
      "outputs": [
        {
          "output_type": "execute_result",
          "data": {
            "text/plain": [
              "(tensor([[1., 2., 3., 4., 5., 6., 7., 8., 9.]]), torch.Size([1, 9]))"
            ]
          },
          "metadata": {},
          "execution_count": 42
        }
      ],
      "source": [
        "# Add an extra dimension\n",
        "x_reshaped = x.reshape(1,9)\n",
        "x_reshaped, x_reshaped.shape"
      ]
    },
    {
      "cell_type": "code",
      "execution_count": 43,
      "metadata": {
        "colab": {
          "base_uri": "https://localhost:8080/"
        },
        "id": "NymApAEs87Q7",
        "outputId": "52c42b4c-53ab-4337-97ee-d67240e2f3ee"
      },
      "outputs": [
        {
          "output_type": "execute_result",
          "data": {
            "text/plain": [
              "(tensor([[1., 2., 3.],\n",
              "         [4., 5., 6.],\n",
              "         [7., 8., 9.]]),\n",
              " torch.Size([3, 3]))"
            ]
          },
          "metadata": {},
          "execution_count": 43
        }
      ],
      "source": [
        "z = x.view(3, 3)\n",
        "z, z.shape"
      ]
    },
    {
      "cell_type": "code",
      "execution_count": 44,
      "metadata": {
        "colab": {
          "base_uri": "https://localhost:8080/"
        },
        "id": "ySP2Cl6S9kqO",
        "outputId": "c95ef70f-2549-489e-f72d-c631f2cf8d2b"
      },
      "outputs": [
        {
          "output_type": "execute_result",
          "data": {
            "text/plain": [
              "(tensor([[1., 3., 3.],\n",
              "         [4., 3., 6.],\n",
              "         [7., 3., 9.]]),\n",
              " tensor([1., 3., 3., 4., 3., 6., 7., 3., 9.]))"
            ]
          },
          "metadata": {},
          "execution_count": 44
        }
      ],
      "source": [
        "z[:, 1] = 3\n",
        "z, x"
      ]
    },
    {
      "cell_type": "code",
      "execution_count": 45,
      "metadata": {
        "colab": {
          "base_uri": "https://localhost:8080/"
        },
        "id": "b5pyID5G9xcT",
        "outputId": "bf6badac-ebda-4c59-f6bf-6af7735f1161"
      },
      "outputs": [
        {
          "output_type": "execute_result",
          "data": {
            "text/plain": [
              "(tensor([[1., 3., 3., 4., 3., 6., 7., 3., 9.],\n",
              "         [1., 3., 3., 4., 3., 6., 7., 3., 9.],\n",
              "         [1., 3., 3., 4., 3., 6., 7., 3., 9.],\n",
              "         [1., 3., 3., 4., 3., 6., 7., 3., 9.]]),\n",
              " torch.Size([4, 9]),\n",
              " 2)"
            ]
          },
          "metadata": {},
          "execution_count": 45
        }
      ],
      "source": [
        "x_stacked = torch.stack([x, x, x, x], dim = 0)\n",
        "x_stacked, x_stacked.shape, x_stacked.ndim"
      ]
    },
    {
      "cell_type": "code",
      "execution_count": 46,
      "metadata": {
        "colab": {
          "base_uri": "https://localhost:8080/"
        },
        "id": "XrLqZSbb-J4c",
        "outputId": "63d6f115-b10d-46ed-ee7d-e963174b46ab"
      },
      "outputs": [
        {
          "output_type": "execute_result",
          "data": {
            "text/plain": [
              "tensor([[[[[0., 0.]],\n",
              "\n",
              "          [[0., 0.]]]],\n",
              "\n",
              "\n",
              "\n",
              "        [[[[0., 0.]],\n",
              "\n",
              "          [[0., 0.]]]]])"
            ]
          },
          "metadata": {},
          "execution_count": 46
        }
      ],
      "source": [
        "x = torch.zeros(2, 1, 2, 1, 2)\n",
        "x"
      ]
    },
    {
      "cell_type": "code",
      "execution_count": 47,
      "metadata": {
        "colab": {
          "base_uri": "https://localhost:8080/"
        },
        "id": "361M4gF5Eu_T",
        "outputId": "1788d4e2-fb01-4454-8655-bee9f69dfcc4"
      },
      "outputs": [
        {
          "output_type": "execute_result",
          "data": {
            "text/plain": [
              "tensor([[[0., 0.],\n",
              "         [0., 0.]],\n",
              "\n",
              "        [[0., 0.],\n",
              "         [0., 0.]]])"
            ]
          },
          "metadata": {},
          "execution_count": 47
        }
      ],
      "source": [
        "y = torch.squeeze(x)\n",
        "y"
      ]
    },
    {
      "cell_type": "code",
      "execution_count": 48,
      "metadata": {
        "colab": {
          "base_uri": "https://localhost:8080/"
        },
        "id": "U8WqLzOGE9_1",
        "outputId": "2d448969-42c2-45f4-de75-0237751f6c3d"
      },
      "outputs": [
        {
          "output_type": "execute_result",
          "data": {
            "text/plain": [
              "tensor([[1., 3., 3., 4., 3., 6., 7., 3., 9.]])"
            ]
          },
          "metadata": {},
          "execution_count": 48
        }
      ],
      "source": [
        "x_reshaped"
      ]
    },
    {
      "cell_type": "code",
      "execution_count": 49,
      "metadata": {
        "colab": {
          "base_uri": "https://localhost:8080/"
        },
        "id": "GsT-bBQcFOWZ",
        "outputId": "44b25af9-b0c4-4fa2-b712-fb5380bde6a5"
      },
      "outputs": [
        {
          "output_type": "execute_result",
          "data": {
            "text/plain": [
              "torch.Size([1, 9])"
            ]
          },
          "metadata": {},
          "execution_count": 49
        }
      ],
      "source": [
        "x_reshaped.shape"
      ]
    },
    {
      "cell_type": "code",
      "execution_count": 50,
      "metadata": {
        "colab": {
          "base_uri": "https://localhost:8080/"
        },
        "id": "D3cBpW7bFT2F",
        "outputId": "4721cef2-fdf9-4d82-e5e6-2479f7e6ca82"
      },
      "outputs": [
        {
          "output_type": "execute_result",
          "data": {
            "text/plain": [
              "tensor([1., 3., 3., 4., 3., 6., 7., 3., 9.])"
            ]
          },
          "metadata": {},
          "execution_count": 50
        }
      ],
      "source": [
        "x_reshaped.squeeze()"
      ]
    },
    {
      "cell_type": "code",
      "execution_count": 51,
      "metadata": {
        "colab": {
          "base_uri": "https://localhost:8080/"
        },
        "id": "ZrDHvztrFWya",
        "outputId": "5c697b3f-e1be-4421-e31e-fbebfe234e0d"
      },
      "outputs": [
        {
          "output_type": "execute_result",
          "data": {
            "text/plain": [
              "torch.Size([9])"
            ]
          },
          "metadata": {},
          "execution_count": 51
        }
      ],
      "source": [
        "x_reshaped.squeeze().shape"
      ]
    },
    {
      "cell_type": "code",
      "execution_count": 52,
      "metadata": {
        "colab": {
          "base_uri": "https://localhost:8080/"
        },
        "id": "qvwg3obfFbE9",
        "outputId": "179eb7a6-a5a6-4cca-c849-5bff0d993e83"
      },
      "outputs": [
        {
          "output_type": "execute_result",
          "data": {
            "text/plain": [
              "tensor([1., 3., 3., 4., 3., 6., 7., 3., 9.])"
            ]
          },
          "metadata": {},
          "execution_count": 52
        }
      ],
      "source": [
        "x_squeezed = x_reshaped.squeeze()\n",
        "x_squeezed"
      ]
    },
    {
      "cell_type": "code",
      "execution_count": 53,
      "metadata": {
        "colab": {
          "base_uri": "https://localhost:8080/"
        },
        "id": "PhfS8Ta8GjwV",
        "outputId": "ca87a49b-6a00-414c-dfb6-7910fb5cca24"
      },
      "outputs": [
        {
          "output_type": "execute_result",
          "data": {
            "text/plain": [
              "tensor([[1.],\n",
              "        [3.],\n",
              "        [3.],\n",
              "        [4.],\n",
              "        [3.],\n",
              "        [6.],\n",
              "        [7.],\n",
              "        [3.],\n",
              "        [9.]])"
            ]
          },
          "metadata": {},
          "execution_count": 53
        }
      ],
      "source": [
        "x_unsqueezed = x_squeezed.unsqueeze(dim = 1)\n",
        "x_unsqueezed"
      ]
    },
    {
      "cell_type": "code",
      "execution_count": 54,
      "metadata": {
        "colab": {
          "base_uri": "https://localhost:8080/"
        },
        "id": "ZIRIuaJ4Guzl",
        "outputId": "25d78402-ff48-4d57-895c-279a27add9f9"
      },
      "outputs": [
        {
          "output_type": "execute_result",
          "data": {
            "text/plain": [
              "(tensor([[0.1869, 0.9613, 0.6834, 0.8988],\n",
              "         [0.0505, 0.5555, 0.7861, 0.0566],\n",
              "         [0.7842, 0.1480, 0.0388, 0.1037]]),\n",
              " tensor([[0.1869, 0.9613, 0.6834, 0.8988],\n",
              "         [0.0505, 0.5555, 0.7861, 0.0566],\n",
              "         [0.7842, 0.1480, 0.0388, 0.1037]]))"
            ]
          },
          "metadata": {},
          "execution_count": 54
        }
      ],
      "source": [
        "RANDOM_SEED = 45\n",
        "torch.manual_seed(RANDOM_SEED)\n",
        "random_tensor_C = torch.rand(3, 4)\n",
        "\n",
        "torch.manual_seed(RANDOM_SEED)\n",
        "random_tensor_D = torch.rand(3,4)\n",
        "\n",
        "random_tensor_C, random_tensor_D"
      ]
    },
    {
      "cell_type": "code",
      "execution_count": 55,
      "metadata": {
        "colab": {
          "base_uri": "https://localhost:8080/"
        },
        "id": "EwmjWKOPcQjd",
        "outputId": "08426534-6644-467b-9673-f09ec7bf9eb6"
      },
      "outputs": [
        {
          "output_type": "stream",
          "name": "stdout",
          "text": [
            "Sun Jul 27 01:44:00 2025       \n",
            "+-----------------------------------------------------------------------------------------+\n",
            "| NVIDIA-SMI 550.54.15              Driver Version: 550.54.15      CUDA Version: 12.4     |\n",
            "|-----------------------------------------+------------------------+----------------------+\n",
            "| GPU  Name                 Persistence-M | Bus-Id          Disp.A | Volatile Uncorr. ECC |\n",
            "| Fan  Temp   Perf          Pwr:Usage/Cap |           Memory-Usage | GPU-Util  Compute M. |\n",
            "|                                         |                        |               MIG M. |\n",
            "|=========================================+========================+======================|\n",
            "|   0  Tesla T4                       Off |   00000000:00:04.0 Off |                    0 |\n",
            "| N/A   59C    P8             10W /   70W |       0MiB /  15360MiB |      0%      Default |\n",
            "|                                         |                        |                  N/A |\n",
            "+-----------------------------------------+------------------------+----------------------+\n",
            "                                                                                         \n",
            "+-----------------------------------------------------------------------------------------+\n",
            "| Processes:                                                                              |\n",
            "|  GPU   GI   CI        PID   Type   Process name                              GPU Memory |\n",
            "|        ID   ID                                                               Usage      |\n",
            "|=========================================================================================|\n",
            "|  No running processes found                                                             |\n",
            "+-----------------------------------------------------------------------------------------+\n"
          ]
        }
      ],
      "source": [
        "!nvidia-smi"
      ]
    },
    {
      "cell_type": "code",
      "execution_count": 56,
      "metadata": {
        "colab": {
          "base_uri": "https://localhost:8080/"
        },
        "id": "DifNaLrSeM1V",
        "outputId": "97c22df0-cfb6-428b-f704-945484908e72"
      },
      "outputs": [
        {
          "output_type": "execute_result",
          "data": {
            "text/plain": [
              "(tensor([[0.0000],\n",
              "         [0.0200],\n",
              "         [0.0400],\n",
              "         [0.0600],\n",
              "         [0.0800],\n",
              "         [0.1000],\n",
              "         [0.1200],\n",
              "         [0.1400],\n",
              "         [0.1600],\n",
              "         [0.1800]]),\n",
              " tensor([[0.3000],\n",
              "         [0.3140],\n",
              "         [0.3280],\n",
              "         [0.3420],\n",
              "         [0.3560],\n",
              "         [0.3700],\n",
              "         [0.3840],\n",
              "         [0.3980],\n",
              "         [0.4120],\n",
              "         [0.4260]]))"
            ]
          },
          "metadata": {},
          "execution_count": 56
        }
      ],
      "source": [
        "weight = 0.7\n",
        "bias = 0.3\n",
        "\n",
        "start = 0\n",
        "end = 1\n",
        "step = 0.02\n",
        "\n",
        "X = torch.arange(start, end, step).unsqueeze(dim=1)\n",
        "y = weight*X + bias\n",
        "\n",
        "X[:10], y[:10]"
      ]
    },
    {
      "cell_type": "code",
      "execution_count": 57,
      "metadata": {
        "colab": {
          "base_uri": "https://localhost:8080/"
        },
        "id": "saBpuhkzhum5",
        "outputId": "25ca2d2f-faab-44f8-f68b-97c3d9d44aef"
      },
      "outputs": [
        {
          "output_type": "execute_result",
          "data": {
            "text/plain": [
              "(50, 50)"
            ]
          },
          "metadata": {},
          "execution_count": 57
        }
      ],
      "source": [
        "len(X), len(y)"
      ]
    },
    {
      "cell_type": "code",
      "execution_count": 58,
      "metadata": {
        "colab": {
          "base_uri": "https://localhost:8080/"
        },
        "id": "dUUCuEDyh5RD",
        "outputId": "47cd4baa-a0d2-4f2e-9ca5-2e8b46b50b8b"
      },
      "outputs": [
        {
          "output_type": "execute_result",
          "data": {
            "text/plain": [
              "(40, 40, 10, 10)"
            ]
          },
          "metadata": {},
          "execution_count": 58
        }
      ],
      "source": [
        "# Create a train/test split\n",
        "\n",
        "train_split = int(0.8 * len(X))\n",
        "X_train, y_train = X[:train_split], y[:train_split]\n",
        "\n",
        "X_test, y_test = X[train_split:], y[train_split:]\n",
        "len(X_train), len(y_train), len(X_test), len(y_test)"
      ]
    },
    {
      "cell_type": "code",
      "execution_count": 59,
      "metadata": {
        "colab": {
          "base_uri": "https://localhost:8080/"
        },
        "id": "LBXNtITCi8Gn",
        "outputId": "c4c9f3eb-e191-4542-f90c-3472b87d75b3"
      },
      "outputs": [
        {
          "output_type": "execute_result",
          "data": {
            "text/plain": [
              "(tensor([[0.0000],\n",
              "         [0.0200],\n",
              "         [0.0400],\n",
              "         [0.0600],\n",
              "         [0.0800],\n",
              "         [0.1000],\n",
              "         [0.1200],\n",
              "         [0.1400],\n",
              "         [0.1600],\n",
              "         [0.1800],\n",
              "         [0.2000],\n",
              "         [0.2200],\n",
              "         [0.2400],\n",
              "         [0.2600],\n",
              "         [0.2800],\n",
              "         [0.3000],\n",
              "         [0.3200],\n",
              "         [0.3400],\n",
              "         [0.3600],\n",
              "         [0.3800],\n",
              "         [0.4000],\n",
              "         [0.4200],\n",
              "         [0.4400],\n",
              "         [0.4600],\n",
              "         [0.4800],\n",
              "         [0.5000],\n",
              "         [0.5200],\n",
              "         [0.5400],\n",
              "         [0.5600],\n",
              "         [0.5800],\n",
              "         [0.6000],\n",
              "         [0.6200],\n",
              "         [0.6400],\n",
              "         [0.6600],\n",
              "         [0.6800],\n",
              "         [0.7000],\n",
              "         [0.7200],\n",
              "         [0.7400],\n",
              "         [0.7600],\n",
              "         [0.7800]]),\n",
              " tensor([[0.8000],\n",
              "         [0.8200],\n",
              "         [0.8400],\n",
              "         [0.8600],\n",
              "         [0.8800],\n",
              "         [0.9000],\n",
              "         [0.9200],\n",
              "         [0.9400],\n",
              "         [0.9600],\n",
              "         [0.9800]]))"
            ]
          },
          "metadata": {},
          "execution_count": 59
        }
      ],
      "source": [
        "X_train, X_test"
      ]
    },
    {
      "cell_type": "code",
      "execution_count": 60,
      "metadata": {
        "id": "qyEajUApjDGX"
      },
      "outputs": [],
      "source": [
        "def plot_predictions(train_data = X_train,\n",
        "                     train_labels = y_train,\n",
        "                     test_data = X_test,\n",
        "                     test_labels = y_test,\n",
        "                     predictions = None):\n",
        "  plt.figure(figsize=(10,7))\n",
        "  plt.scatter(train_data, train_labels, c = \"b\", s= 4, label = \"Training Data\")\n",
        "  plt.scatter(test_data, test_labels, c = 'g', s = 4, label = 'Testing Data')\n",
        "\n",
        "\n",
        "  if predictions is not None:\n",
        "    plt.scatter(test_data, predictions, c = 'r', s = 4, label = 'Predictions')\n",
        "\n",
        "  plt.legend()"
      ]
    },
    {
      "cell_type": "code",
      "execution_count": 61,
      "metadata": {
        "colab": {
          "base_uri": "https://localhost:8080/",
          "height": 599
        },
        "id": "GLySWUAnkz8-",
        "outputId": "c6df3ca0-0a82-414e-910e-ef9137b3a5ce"
      },
      "outputs": [
        {
          "output_type": "display_data",
          "data": {
            "text/plain": [
              "<Figure size 1000x700 with 1 Axes>"
            ],
            "image/png": "[encoded data removed]"
          },
          "metadata": {}
        }
      ],
      "source": [
        "plot_predictions()"
      ]
    },
    {
      "cell_type": "code",
      "source": [
        "from torch import nn\n",
        "\n",
        "class LinearRegressionModel(nn.Module):\n",
        "  def __init__(self):\n",
        "    super().__init__()\n",
        "    self.weight = nn.Parameter(torch.randn(1,\n",
        "                                           requires_grad=True,\n",
        "                                           dtype = torch.float))\n",
        "\n",
        "    self.bias = nn.Parameter(torch.randn(1,\n",
        "                                         requires_grad=True,\n",
        "                                         dtype = torch.float))\n",
        "\n",
        "  def forward(self, x:torch.Tensor) -> torch.Tensor:\n",
        "     return self.weight * x + self.bias"
      ],
      "metadata": {
        "id": "JCWPZ9fdlf-Y"
      },
      "execution_count": 76,
      "outputs": []
    },
    {
      "cell_type": "code",
      "source": [
        "torch.manual_seed(42)\n",
        "model_0 = LinearRegressionModel()\n",
        "\n",
        "list(model_0.parameters())"
      ],
      "metadata": {
        "colab": {
          "base_uri": "https://localhost:8080/"
        },
        "id": "-LnIN_y8s3hE",
        "outputId": "2d752a56-7678-4b6a-ddaf-99031664abb4"
      },
      "execution_count": 77,
      "outputs": [
        {
          "output_type": "execute_result",
          "data": {
            "text/plain": [
              "[Parameter containing:\n",
              " tensor([0.3367], requires_grad=True),\n",
              " Parameter containing:\n",
              " tensor([0.1288], requires_grad=True)]"
            ]
          },
          "metadata": {},
          "execution_count": 77
        }
      ]
    },
    {
      "cell_type": "code",
      "source": [
        "model_0.state_dict()"
      ],
      "metadata": {
        "colab": {
          "base_uri": "https://localhost:8080/"
        },
        "id": "4OMavHkSz1Ce",
        "outputId": "4833df5b-5f28-44bd-ea20-75da1454c6c7"
      },
      "execution_count": 78,
      "outputs": [
        {
          "output_type": "execute_result",
          "data": {
            "text/plain": [
              "OrderedDict([('weight', tensor([0.3367])), ('bias', tensor([0.1288]))])"
            ]
          },
          "metadata": {},
          "execution_count": 78
        }
      ]
    },
    {
      "cell_type": "code",
      "source": [
        "with torch.inference_mode():\n",
        "  y_preds = model_0(X_test)\n",
        "\n",
        "y_preds"
      ],
      "metadata": {
        "colab": {
          "base_uri": "https://localhost:8080/"
        },
        "id": "AqLmExGd0V7G",
        "outputId": "87acaf3b-0d64-4030-de86-dd90d112f08a"
      },
      "execution_count": 65,
      "outputs": [
        {
          "output_type": "execute_result",
          "data": {
            "text/plain": [
              "tensor([[0.3982],\n",
              "        [0.4049],\n",
              "        [0.4116],\n",
              "        [0.4184],\n",
              "        [0.4251],\n",
              "        [0.4318],\n",
              "        [0.4386],\n",
              "        [0.4453],\n",
              "        [0.4520],\n",
              "        [0.4588]])"
            ]
          },
          "metadata": {},
          "execution_count": 65
        }
      ]
    },
    {
      "cell_type": "code",
      "source": [
        "plot_predictions(predictions=y_preds)"
      ],
      "metadata": {
        "colab": {
          "base_uri": "https://localhost:8080/",
          "height": 599
        },
        "id": "hTmeXKxE2RMT",
        "outputId": "99f85959-728d-4156-db75-1cad50f278f9"
      },
      "execution_count": 66,
      "outputs": [
        {
          "output_type": "display_data",
          "data": {
            "text/plain": [
              "<Figure size 1000x700 with 1 Axes>"
            ],
            "image/png": "[encoded data removed]"
          },
          "metadata": {}
        }
      ]
    },
    {
      "cell_type": "code",
      "source": [
        "loss_fn = nn.L1Loss() # MAE loss is same L1Loss\n",
        "\n",
        "# Create the optimizer\n",
        "optimizer = torch.optim.SGD(params = model_0.parameters(),lr = 0.01)"
      ],
      "metadata": {
        "id": "Ccp3N1eH2XIv"
      },
      "execution_count": 94,
      "outputs": []
    },
    {
      "cell_type": "code",
      "source": [
        "torch.manual_seed(42)\n",
        "epochs = 200\n",
        "\n",
        "for epoch in range(epochs):\n",
        "  model_0.train() #train mode in pytorch sets all parameters that require gradients\n",
        "\n",
        "  # Forward Pass\n",
        "  y_pred = model_0(X_train )\n",
        "\n",
        "  # Calculate the loss\n",
        "  loss = loss_fn(y_pred, y_train)\n",
        "  print(f\"Loss: {loss}\")\n",
        "\n",
        "# Optimizer zero grad\n",
        "  optimizer.zero_grad()\n",
        "\n",
        "  #Perform backpropagation\n",
        "  loss.backward()\n",
        "\n",
        "  # STep the optimizer(Perform gradient descent)\n",
        "  optimizer.step()\n",
        "\n",
        "  model_0.eval()\n",
        "  with torch.inference_mode():\n",
        "    test_pred = model_0(X_test)\n",
        "\n",
        "    test_loss = loss_fn(test_pred, y_test)\n",
        "\n",
        "  if epoch % 10 == 0:\n",
        "    print(f\"Epoch: {epoch} | Loss: {loss} | Test Loss: {test_loss}\")\n",
        "    print(model_0.state_dict())"
      ],
      "metadata": {
        "colab": {
          "base_uri": "https://localhost:8080/"
        },
        "id": "5KOG3K3yTsnq",
        "outputId": "c5c274bd-0f89-4732-f51e-852ddf2a02b3"
      },
      "execution_count": 95,
      "outputs": [
        {
          "output_type": "stream",
          "name": "stdout",
          "text": [
            "Loss: 0.0855853408575058\n",
            "Epoch: 0 | Loss: 0.0855853408575058 | Test Loss: 0.2122342884540558\n",
            "OrderedDict([('weight', tensor([0.4206])), ('bias', tensor([0.3364]))])\n",
            "Loss: 0.07942329347133636\n",
            "Loss: 0.0740523487329483\n",
            "Loss: 0.06941084563732147\n",
            "Loss: 0.06547163426876068\n",
            "Loss: 0.062352925539016724\n",
            "Loss: 0.05970540642738342\n",
            "Loss: 0.05750695616006851\n",
            "Loss: 0.05547994375228882\n",
            "Loss: 0.053793519735336304\n",
            "Loss: 0.05237891525030136\n",
            "Epoch: 10 | Loss: 0.05237891525030136 | Test Loss: 0.14255845546722412\n",
            "OrderedDict([('weight', tensor([0.4528])), ('bias', tensor([0.3774]))])\n",
            "Loss: 0.051249910145998\n",
            "Loss: 0.050180088728666306\n",
            "Loss: 0.04930993169546127\n",
            "Loss: 0.048490870743989944\n",
            "Loss: 0.04782918095588684\n",
            "Loss: 0.047167494893074036\n",
            "Loss: 0.046595498919487\n",
            "Loss: 0.046090882271528244\n",
            "Loss: 0.04558628052473068\n",
            "Loss: 0.04513893276453018\n",
            "Epoch: 20 | Loss: 0.04513893276453018 | Test Loss: 0.11217911541461945\n",
            "OrderedDict([('weight', tensor([0.4763])), ('bias', tensor([0.3869]))])\n",
            "Loss: 0.044738929718732834\n",
            "Loss: 0.044338930398225784\n",
            "Loss: 0.043938927352428436\n",
            "Loss: 0.04353892803192139\n",
            "Loss: 0.04317047819495201\n",
            "Loss: 0.0428214967250824\n",
            "Loss: 0.042472489178180695\n",
            "Loss: 0.04212348908185959\n",
            "Loss: 0.04177448898553848\n",
            "Loss: 0.04142548888921738\n",
            "Epoch: 30 | Loss: 0.04142548888921738 | Test Loss: 0.0984470471739769\n",
            "OrderedDict([('weight', tensor([0.4951])), ('bias', tensor([0.3839]))])\n",
            "Loss: 0.04107648506760597\n",
            "Loss: 0.040727488696575165\n",
            "Loss: 0.04037848860025406\n",
            "Loss: 0.04002948850393295\n",
            "Loss: 0.039680492132902145\n",
            "Loss: 0.03933149203658104\n",
            "Loss: 0.038982491940259933\n",
            "Loss: 0.03863348811864853\n",
            "Loss: 0.03828448802232742\n",
            "Loss: 0.037943366914987564\n",
            "Epoch: 40 | Loss: 0.037943366914987564 | Test Loss: 0.08811385929584503\n",
            "OrderedDict([('weight', tensor([0.5129])), ('bias', tensor([0.3784]))])\n",
            "Loss: 0.037599287927150726\n",
            "Loss: 0.03725435584783554\n",
            "Loss: 0.03691409155726433\n",
            "Loss: 0.03656534105539322\n",
            "Loss: 0.03622887656092644\n",
            "Loss: 0.03587988764047623\n",
            "Loss: 0.0355401374399662\n",
            "Loss: 0.03519468009471893\n",
            "Loss: 0.03485112637281418\n",
            "Loss: 0.03450948745012283\n",
            "Epoch: 50 | Loss: 0.03450948745012283 | Test Loss: 0.07984131574630737\n",
            "OrderedDict([('weight', tensor([0.5301])), ('bias', tensor([0.3714]))])\n",
            "Loss: 0.03416211158037186\n",
            "Loss: 0.03382427617907524\n",
            "Loss: 0.033475279808044434\n",
            "Loss: 0.03313690423965454\n",
            "Loss: 0.03279007971286774\n",
            "Loss: 0.03244788199663162\n",
            "Loss: 0.03210487961769104\n",
            "Loss: 0.031758882105350494\n",
            "Loss: 0.031419672071933746\n",
            "Loss: 0.03107067570090294\n",
            "Epoch: 60 | Loss: 0.03107067570090294 | Test Loss: 0.07156877219676971\n",
            "OrderedDict([('weight', tensor([0.5472])), ('bias', tensor([0.3644]))])\n",
            "Loss: 0.03073367103934288\n",
            "Loss: 0.030385475605726242\n",
            "Loss: 0.030044663697481155\n",
            "Loss: 0.02970026805996895\n",
            "Loss: 0.02935566008090973\n",
            "Loss: 0.0290150735527277\n",
            "Loss: 0.02866664156317711\n",
            "Loss: 0.028329869732260704\n",
            "Loss: 0.02798086777329445\n",
            "Loss: 0.027641434222459793\n",
            "Epoch: 70 | Loss: 0.027641434222459793 | Test Loss: 0.06398311257362366\n",
            "OrderedDict([('weight', tensor([0.5642])), ('bias', tensor([0.3569]))])\n",
            "Loss: 0.027295667678117752\n",
            "Loss: 0.02695242501795292\n",
            "Loss: 0.026610473170876503\n",
            "Loss: 0.02626340463757515\n",
            "Loss: 0.02592526003718376\n",
            "Loss: 0.025576263666152954\n",
            "Loss: 0.02523820474743843\n",
            "Loss: 0.024891061708331108\n",
            "Loss: 0.024549195542931557\n",
            "Loss: 0.02420586161315441\n",
            "Epoch: 80 | Loss: 0.02420586161315441 | Test Loss: 0.0557105652987957\n",
            "OrderedDict([('weight', tensor([0.5813])), ('bias', tensor([0.3499]))])\n",
            "Loss: 0.023860182613134384\n",
            "Loss: 0.02352065220475197\n",
            "Loss: 0.023171663284301758\n",
            "Loss: 0.022834977135062218\n",
            "Loss: 0.022486457601189613\n",
            "Loss: 0.022145962342619896\n",
            "Loss: 0.021801259368658066\n",
            "Loss: 0.021456953138113022\n",
            "Loss: 0.02111605741083622\n",
            "Loss: 0.0207679383456707\n",
            "Epoch: 90 | Loss: 0.0207679383456707 | Test Loss: 0.04812493920326233\n",
            "OrderedDict([('weight', tensor([0.5983])), ('bias', tensor([0.3424]))])\n",
            "Loss: 0.020430857315659523\n",
            "Loss: 0.020081859081983566\n",
            "Loss: 0.019742723554372787\n",
            "Loss: 0.019396653398871422\n",
            "Loss: 0.01905372366309166\n",
            "Loss: 0.018711453303694725\n",
            "Loss: 0.01836470700800419\n",
            "Loss: 0.01802624762058258\n",
            "Loss: 0.017677253112196922\n",
            "Loss: 0.017339501529932022\n",
            "Epoch: 100 | Loss: 0.017339501529932022 | Test Loss: 0.03985235095024109\n",
            "OrderedDict([('weight', tensor([0.6154])), ('bias', tensor([0.3354]))])\n",
            "Loss: 0.01699204184114933\n",
            "Loss: 0.016650497913360596\n",
            "Loss: 0.01630684733390808\n",
            "Loss: 0.015961481258273125\n",
            "Loss: 0.01562164444476366\n",
            "Loss: 0.015272645279765129\n",
            "Loss: 0.014936271123588085\n",
            "Loss: 0.014587445184588432\n",
            "Loss: 0.014247260987758636\n",
            "Loss: 0.013902252539992332\n",
            "Epoch: 110 | Loss: 0.013902252539992332 | Test Loss: 0.03157983347773552\n",
            "OrderedDict([('weight', tensor([0.6326])), ('bias', tensor([0.3284]))])\n",
            "Loss: 0.013558241538703442\n",
            "Loss: 0.013217042200267315\n",
            "Loss: 0.012869241647422314\n",
            "Loss: 0.012531841173768044\n",
            "Loss: 0.012182840146124363\n",
            "Loss: 0.0118440305814147\n",
            "Loss: 0.011497639119625092\n",
            "Loss: 0.01115502044558525\n",
            "Loss: 0.010812429711222649\n",
            "Loss: 0.010466017760336399\n",
            "Epoch: 120 | Loss: 0.010466017760336399 | Test Loss: 0.023994166404008865\n",
            "OrderedDict([('weight', tensor([0.6495])), ('bias', tensor([0.3209]))])\n",
            "Loss: 0.010127237066626549\n",
            "Loss: 0.009778235107660294\n",
            "Loss: 0.009440802969038486\n",
            "Loss: 0.009093035012483597\n",
            "Loss: 0.008751788176596165\n",
            "Loss: 0.00840783305466175\n",
            "Loss: 0.00806278083473444\n",
            "Loss: 0.007722639478743076\n",
            "Loss: 0.007373766042292118\n",
            "Loss: 0.0070374286733567715\n",
            "Epoch: 130 | Loss: 0.0070374286733567715 | Test Loss: 0.015721624717116356\n",
            "OrderedDict([('weight', tensor([0.6667])), ('bias', tensor([0.3139]))])\n",
            "Loss: 0.006688433233648539\n",
            "Loss: 0.006348556373268366\n",
            "Loss: 0.006003227084875107\n",
            "Loss: 0.005659550428390503\n",
            "Loss: 0.005318027921020985\n",
            "Loss: 0.004970538429915905\n",
            "Loss: 0.004632824100553989\n",
            "Loss: 0.004283825866878033\n",
            "Loss: 0.00394532922655344\n",
            "Loss: 0.0035986185539513826\n",
            "Epoch: 140 | Loss: 0.0035986185539513826 | Test Loss: 0.007449066732078791\n",
            "OrderedDict([('weight', tensor([0.6839])), ('bias', tensor([0.3069]))])\n",
            "Loss: 0.0032563216518610716\n",
            "Loss: 0.0029134214855730534\n",
            "Loss: 0.0025673084892332554\n",
            "Loss: 0.0022307902108877897\n",
            "Loss: 0.0019264034926891327\n",
            "Loss: 0.001910215592943132\n",
            "Loss: 0.003954727202653885\n",
            "Loss: 0.007566265761852264\n",
            "Loss: 0.003954727202653885\n",
            "Loss: 0.007566265761852264\n",
            "Epoch: 150 | Loss: 0.007566265761852264 | Test Loss: 0.001447743154130876\n",
            "OrderedDict([('weight', tensor([0.6950])), ('bias', tensor([0.3059]))])\n",
            "Loss: 0.003954727202653885\n",
            "Loss: 0.007566265761852264\n",
            "Loss: 0.003954727202653885\n",
            "Loss: 0.007566265761852264\n",
            "Loss: 0.003954727202653885\n",
            "Loss: 0.007566265761852264\n",
            "Loss: 0.003954727202653885\n",
            "Loss: 0.007566265761852264\n",
            "Loss: 0.003954727202653885\n",
            "Loss: 0.007566265761852264\n",
            "Epoch: 160 | Loss: 0.007566265761852264 | Test Loss: 0.001447743154130876\n",
            "OrderedDict([('weight', tensor([0.6950])), ('bias', tensor([0.3059]))])\n",
            "Loss: 0.003954727202653885\n",
            "Loss: 0.007566265761852264\n",
            "Loss: 0.003954727202653885\n",
            "Loss: 0.007566265761852264\n",
            "Loss: 0.003954727202653885\n",
            "Loss: 0.007566265761852264\n",
            "Loss: 0.003954727202653885\n",
            "Loss: 0.007566265761852264\n",
            "Loss: 0.003954727202653885\n",
            "Loss: 0.007566265761852264\n",
            "Epoch: 170 | Loss: 0.007566265761852264 | Test Loss: 0.001447743154130876\n",
            "OrderedDict([('weight', tensor([0.6950])), ('bias', tensor([0.3059]))])\n",
            "Loss: 0.003954727202653885\n",
            "Loss: 0.007566265761852264\n",
            "Loss: 0.003954727202653885\n",
            "Loss: 0.007566265761852264\n",
            "Loss: 0.003954727202653885\n",
            "Loss: 0.007566265761852264\n",
            "Loss: 0.003954727202653885\n",
            "Loss: 0.007566265761852264\n",
            "Loss: 0.003954727202653885\n",
            "Loss: 0.007566265761852264\n",
            "Epoch: 180 | Loss: 0.007566265761852264 | Test Loss: 0.001447743154130876\n",
            "OrderedDict([('weight', tensor([0.6950])), ('bias', tensor([0.3059]))])\n",
            "Loss: 0.003954727202653885\n",
            "Loss: 0.007566265761852264\n",
            "Loss: 0.003954727202653885\n",
            "Loss: 0.007566265761852264\n",
            "Loss: 0.003954727202653885\n",
            "Loss: 0.007566265761852264\n",
            "Loss: 0.003954727202653885\n",
            "Loss: 0.007566265761852264\n",
            "Loss: 0.003954727202653885\n",
            "Loss: 0.007566265761852264\n",
            "Epoch: 190 | Loss: 0.007566265761852264 | Test Loss: 0.001447743154130876\n",
            "OrderedDict([('weight', tensor([0.6950])), ('bias', tensor([0.3059]))])\n",
            "Loss: 0.003954727202653885\n",
            "Loss: 0.007566265761852264\n",
            "Loss: 0.003954727202653885\n",
            "Loss: 0.007566265761852264\n",
            "Loss: 0.003954727202653885\n",
            "Loss: 0.007566265761852264\n",
            "Loss: 0.003954727202653885\n",
            "Loss: 0.007566265761852264\n",
            "Loss: 0.003954727202653885\n"
          ]
        }
      ]
    },
    {
      "cell_type": "code",
      "source": [
        "\n",
        "model_0.state_dict()"
      ],
      "metadata": {
        "colab": {
          "base_uri": "https://localhost:8080/"
        },
        "id": "NwBeUHkPryAG",
        "outputId": "98cbfdeb-023a-4cb7-c856-895b9637edac"
      },
      "execution_count": 96,
      "outputs": [
        {
          "output_type": "execute_result",
          "data": {
            "text/plain": [
              "OrderedDict([('weight', tensor([0.6911])), ('bias', tensor([0.2959]))])"
            ]
          },
          "metadata": {},
          "execution_count": 96
        }
      ]
    },
    {
      "cell_type": "code",
      "source": [
        "model_0.state_dict()"
      ],
      "metadata": {
        "colab": {
          "base_uri": "https://localhost:8080/"
        },
        "id": "m0BxJkKcegVM",
        "outputId": "5039e105-0c45-49c0-ac22-6bca0a1cd455"
      },
      "execution_count": 97,
      "outputs": [
        {
          "output_type": "execute_result",
          "data": {
            "text/plain": [
              "OrderedDict([('weight', tensor([0.6911])), ('bias', tensor([0.2959]))])"
            ]
          },
          "metadata": {},
          "execution_count": 97
        }
      ]
    },
    {
      "cell_type": "code",
      "source": [
        "weight, bias"
      ],
      "metadata": {
        "colab": {
          "base_uri": "https://localhost:8080/"
        },
        "id": "LIASdbfSqmHo",
        "outputId": "3994dba2-90b9-4b15-e266-0860b21bab84"
      },
      "execution_count": 98,
      "outputs": [
        {
          "output_type": "execute_result",
          "data": {
            "text/plain": [
              "(0.7, 0.3)"
            ]
          },
          "metadata": {},
          "execution_count": 98
        }
      ]
    },
    {
      "cell_type": "code",
      "source": [
        "with torch.inference_mode():\n",
        "  y_preds_new = model_0(X_test)"
      ],
      "metadata": {
        "id": "24bftI_rri8W"
      },
      "execution_count": 99,
      "outputs": []
    },
    {
      "cell_type": "code",
      "source": [
        "plot_predictions(predictions=y_preds)"
      ],
      "metadata": {
        "colab": {
          "base_uri": "https://localhost:8080/",
          "height": 599
        },
        "id": "0FyR8K-nufQX",
        "outputId": "bcd9e809-5511-4c36-fc67-48adec9481a0"
      },
      "execution_count": 100,
      "outputs": [
        {
          "output_type": "display_data",
          "data": {
            "text/plain": [
              "<Figure size 1000x700 with 1 Axes>"
            ],
            "image/png": "[encoded data removed]"
          },
          "metadata": {}
        }
      ]
    },
    {
      "cell_type": "code",
      "source": [
        "plot_predictions(predictions=y_preds_new)"
      ],
      "metadata": {
        "colab": {
          "base_uri": "https://localhost:8080/",
          "height": 599
        },
        "id": "QXyRdlG-uku2",
        "outputId": "6ae01b8e-ba03-43a5-f1a5-6529f1866e7a"
      },
      "execution_count": 101,
      "outputs": [
        {
          "output_type": "display_data",
          "data": {
            "text/plain": [
              "<Figure size 1000x700 with 1 Axes>"
            ],
            "image/png": "[encoded data removed]"
          },
          "metadata": {}
        }
      ]
    },
    {
      "cell_type": "code",
      "source": [],
      "metadata": {
        "id": "jc4Yi7rAuo45"
      },
      "execution_count": 74,
      "outputs": []
    }
  ],
  "metadata": {
    "accelerator": "GPU",
    "colab": {
      "gpuType": "T4",
      "provenance": [],
      "authorship_tag": "ABX9TyO0I7hnKDEzubzGkFParBD9",
      "include_colab_link": true
    },
    "kernelspec": {
      "display_name": "Python 3",
      "name": "python3"
    },
    "language_info": {
      "name": "python"
    }
  },
  "nbformat": 4,
  "nbformat_minor": 0
}